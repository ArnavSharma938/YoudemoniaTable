{
 "cells": [
  {
   "cell_type": "code",
   "execution_count": 11,
   "metadata": {},
   "outputs": [],
   "source": [
    "#This file is for converting the US.txt file inside of US.zip here:http://download.geonames.org/export/zip/ into an XLSX file after you extract the zip "
   ]
  },
  {
   "cell_type": "code",
   "execution_count": 12,
   "metadata": {},
   "outputs": [],
   "source": [
    "#Imports\n",
    "import pandas as pd"
   ]
  },
  {
   "cell_type": "code",
   "execution_count": 13,
   "metadata": {},
   "outputs": [],
   "source": [
    "def txt_to_xlsx(txt_file_path, xlsx_file_path, delimiter='\\t'): #\\t makes the code know that tabs seperate each column\n",
    "    # Read txt file\n",
    "    df = pd.read_csv(txt_file_path, delimiter=delimiter, header=None)\n",
    "    # Define column names\n",
    "    df.columns = ['Country', 'ZipCode', 'City', 'StateFull', 'State', 'County', 'FIPS', 'Blank1', 'Blank2', 'Latitude', 'Longitude', 'Additional']\n",
    "    # Write df into xlsx\n",
    "    df.to_excel(xlsx_file_path, index=False)\n",
    "\n",
    "txt_file_path = r\"C:\\Users\\arnav\\Downloads\\US\\US.txt\"  # Replace with ur path\n",
    "xlsx_file_path = r\"C:\\Users\\arnav\\Downloads\\US\\US.xlsx\"  # Replace with the path u want for ur xlsx\n",
    "\n",
    "txt_to_xlsx(txt_file_path, xlsx_file_path)"
   ]
  }
 ],
 "metadata": {
  "kernelspec": {
   "display_name": "Python 3",
   "language": "python",
   "name": "python3"
  },
  "language_info": {
   "codemirror_mode": {
    "name": "ipython",
    "version": 3
   },
   "file_extension": ".py",
   "mimetype": "text/x-python",
   "name": "python",
   "nbconvert_exporter": "python",
   "pygments_lexer": "ipython3",
   "version": "3.12.3"
  }
 },
 "nbformat": 4,
 "nbformat_minor": 2
}
